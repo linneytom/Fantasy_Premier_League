{
 "cells": [
  {
   "cell_type": "code",
   "execution_count": 1,
   "metadata": {},
   "outputs": [],
   "source": [
    "import pandas as pd\n",
    "import numpy as np\n",
    "import copy"
   ]
  },
  {
   "cell_type": "code",
   "execution_count": 104,
   "metadata": {},
   "outputs": [],
   "source": [
    "pan1 = pd.read_csv('cleaned_pan1.csv')\n",
    "pan2 = pd.read_csv('cleaned_pan2.csv')\n",
    "pan3 = pd.read_csv('cleaned_pan3.csv')"
   ]
  },
  {
   "cell_type": "code",
   "execution_count": 3,
   "metadata": {},
   "outputs": [],
   "source": [
    "teams1 = ['ARS', 'BOU', 'BUR', 'CHE', 'CRY',\n",
    "       'EVE', 'HUL', 'LEI', 'LIV', 'MCI', 'MID', 'MUN', 'SOU', 'STO', 'SUN',\n",
    "       'SWA', 'TOT', 'WAT', 'WBA', 'WHU']\n",
    "teams2 = ['ARS', 'BHA', 'BOU', 'BUR', 'CHE',\n",
    "       'CRY', 'EVE', 'HUD', 'LEI', 'LIV', 'MCI', 'MUN', 'NEW', 'SOU', 'STO',\n",
    "       'SWA', 'TOT', 'WAT', 'WBA', 'WHU']\n",
    "teams3 = ['ARS', 'BOU', 'BHA', 'BUR', 'CAR', 'CHE', 'CRY', 'EVE',\n",
    "       'FUL', 'HUD', 'LEI', 'LIV', 'MCI', 'MUN', 'NEW', 'SOU', 'TOT', 'WAT',\n",
    "       'WHU', 'WOL']"
   ]
  },
  {
   "cell_type": "markdown",
   "metadata": {},
   "source": [
    "Create dummies for winner or loser of games within row. Constructed from the sum of goals over week so not precise on double weeks but still a good metric for team performance over the week."
   ]
  },
  {
   "cell_type": "code",
   "execution_count": 4,
   "metadata": {},
   "outputs": [],
   "source": [
    "def winner(row):\n",
    "    t = row['team_score']\n",
    "    o = row['opp_score']\n",
    "    if t>o:\n",
    "        return 1\n",
    "    else:\n",
    "        return 0\n",
    "\n",
    "def draw(row):\n",
    "    t = row['team_score']\n",
    "    o = row['opp_score']\n",
    "    if t==o:\n",
    "        return 1\n",
    "    else:\n",
    "        return 0"
   ]
  },
  {
   "cell_type": "code",
   "execution_count": 5,
   "metadata": {},
   "outputs": [],
   "source": [
    "pan1['win']=pan1.apply(winner,axis=1)\n",
    "pan1['draw']=pan1.apply(draw,axis=1)\n",
    "pan2['win']=pan2.apply(winner,axis=1)\n",
    "pan2['draw']=pan2.apply(draw,axis=1)\n",
    "pan3['win']=pan3.apply(winner,axis=1)\n",
    "pan3['draw']=pan3.apply(draw,axis=1)"
   ]
  },
  {
   "cell_type": "markdown",
   "metadata": {},
   "source": [
    "I now construct features to describe the teams of a game. To controll for quality for both the players team and the opponents team I create a series of features for positional quality, overall quality and top 11 quality. The idea being that each row goes from describing a player in a dark room without any information on the match to describing the difficulty of the game and quality of teams at certain positions. Lastly I construct a percentage points the player got out off all the points awarded during the week of games they were involved in."
   ]
  },
  {
   "cell_type": "code",
   "execution_count": 33,
   "metadata": {},
   "outputs": [],
   "source": [
    "def link_to_team(row, df):\n",
    "    '''\n",
    "    returns a sub-df of the players team that week\n",
    "    '''\n",
    "    team = row['team']\n",
    "    gw = row['round']\n",
    "    return df[(df['team']==team)&(df['round']==gw)]\n",
    "\n",
    "def link_to_opposition(row, df, teams):\n",
    "    '''\n",
    "    returns a sub-df of the players opposition that week\n",
    "    '''\n",
    "    gw = row['round']\n",
    "    teams_played = []\n",
    "    for team in teams:\n",
    "        if row[team]==1:\n",
    "            teams_played.append(team)\n",
    "    if len(teams_played)==1:\n",
    "        team_played = teams_played[0]\n",
    "        sub_df = df[(df['team']==team_played)&(df['round']==gw)]\n",
    "    else: #double week\n",
    "        opp_1 = (df['team']==teams_played[0])\n",
    "        opp_2 = (df['team']==teams_played[1])\n",
    "        condition = (opp_1 | opp_2)\n",
    "        sub_df = df[condition&(df['round']==gw)]\n",
    "        \n",
    "    return sub_df\n",
    "\n",
    "def team_points(row, df):\n",
    "    '''\n",
    "    from sub-df sums total_points\n",
    "    '''\n",
    "    team = link_to_team(row, df)\n",
    "    team_points = team['total_points'].sum()\n",
    "    return team_points\n",
    "\n",
    "def opp_points(row, df, teams):\n",
    "    '''\n",
    "    from sub-df sums total_points\n",
    "    '''\n",
    "    team = link_to_opposition(row, df, teams)\n",
    "    team_points = team['total_points'].sum()\n",
    "    return team_points\n",
    "\n",
    "def pos_points(row, df, pos, opp=False, teams=None):\n",
    "    '''\n",
    "    from sub-df sums total_points\n",
    "    '''\n",
    "    if opp==False:\n",
    "        team = link_to_team(row, df)\n",
    "    else:\n",
    "        team = link_to_opposition(row, df, teams)\n",
    "    pos_points = team[team['position']==pos]['total_points'].sum()\n",
    "    return pos_points\n",
    "\n",
    "def perc_points(row):\n",
    "    '''\n",
    "    sums total_points in game to find percentage\n",
    "    points player got from those generated\n",
    "    '''\n",
    "    t_points = row['team_points']\n",
    "    o_points = row['opp_points']\n",
    "    total = t_points + o_points\n",
    "    pts = row['total_points']\n",
    "    perc = (pts/total)*100\n",
    "    return perc\n",
    "\n",
    "def perc_of_sum(row, team=True):\n",
    "    if team==True:\n",
    "        total=row['team_points']\n",
    "    else:\n",
    "        total=row['opp_points']\n",
    "        \n",
    "    pts = row['total_points']\n",
    "    perc=(pts/total)*100\n",
    "    return perc\n",
    "    \n",
    "\n",
    "def opp_league_points(row, df):\n",
    "    '''\n",
    "    links to the opposition points, finds the mean\n",
    "    league points across the sub-df. If double week\n",
    "    will return the mean points of both opposition teams\n",
    "    '''\n",
    "    team = link_to_opposition(row, df)\n",
    "    league_points = team['league_points_cum'].mean()\n",
    "    return league_points"
   ]
  },
  {
   "cell_type": "code",
   "execution_count": 7,
   "metadata": {},
   "outputs": [],
   "source": [
    "pan1['team_points']=pan1.apply(team_points, df=pan1, axis=1)\n",
    "pan2['team_points']=pan2.apply(team_points, df=pan2, axis=1)\n",
    "pan3['team_points']=pan3.apply(team_points, df=pan3, axis=1)"
   ]
  },
  {
   "cell_type": "code",
   "execution_count": 34,
   "metadata": {},
   "outputs": [],
   "source": [
    "pan1['opp_points']=pan1.apply(opp_points, df=pan1, teams=teams1, axis=1)\n",
    "pan2['opp_points']=pan2.apply(opp_points, df=pan2, teams=teams2, axis=1)\n",
    "pan3['opp_points']=pan3.apply(opp_points, df=pan3, teams=teams3, axis=1)"
   ]
  },
  {
   "cell_type": "code",
   "execution_count": 36,
   "metadata": {},
   "outputs": [],
   "source": [
    "pan1['perc_of_all_points']=pan1.apply(perc_points, axis=1)\n",
    "pan2['perc_of_all_points']=pan2.apply(perc_points, axis=1)\n",
    "pan3['perc_of_all_points']=pan3.apply(perc_points, axis=1)"
   ]
  },
  {
   "cell_type": "code",
   "execution_count": 37,
   "metadata": {},
   "outputs": [],
   "source": [
    "pan1['perc_of_team_points']=pan1.apply(perc_of_sum, axis=1)\n",
    "pan2['perc_of_team_points']=pan2.apply(perc_of_sum, axis=1)\n",
    "pan3['perc_of_team_points']=pan3.apply(perc_of_sum, axis=1)"
   ]
  },
  {
   "cell_type": "code",
   "execution_count": 38,
   "metadata": {},
   "outputs": [],
   "source": [
    "pan1['perc_of_opp_points']=pan1.apply(perc_of_sum, team=False, axis=1)\n",
    "pan2['perc_of_opp_points']=pan2.apply(perc_of_sum, team=False, axis=1)\n",
    "pan3['perc_of_opp_points']=pan3.apply(perc_of_sum, team=False, axis=1)"
   ]
  },
  {
   "cell_type": "code",
   "execution_count": 39,
   "metadata": {},
   "outputs": [],
   "source": [
    "pan1['def_points']=pan1.apply(pos_points, df=pan1, pos='Defender', axis=1)\n",
    "pan1['mid_points']=pan1.apply(pos_points, df=pan1, pos='Midfielder', axis=1)\n",
    "pan1['for_points']=pan1.apply(pos_points, df=pan1, pos='Forward', axis=1)\n",
    "pan1['gk_points']=pan1.apply(pos_points, df=pan1, pos='Goalkeeper', axis=1)\n",
    "pan1['na_points']=pan1.apply(pos_points, df=pan1, pos='unkown', axis=1)\n",
    "\n",
    "pan2['def_points']=pan2.apply(pos_points, df=pan2, pos='Defender', axis=1)\n",
    "pan2['mid_points']=pan2.apply(pos_points, df=pan2, pos='Midfielder', axis=1)\n",
    "pan2['for_points']=pan2.apply(pos_points, df=pan2, pos='Forward', axis=1)\n",
    "pan2['gk_points']=pan2.apply(pos_points, df=pan2, pos='Goalkeeper', axis=1)\n",
    "pan2['na_points']=pan2.apply(pos_points, df=pan2, pos='unkown', axis=1)\n",
    "\n",
    "pan3['def_points']=pan3.apply(pos_points, df=pan3, pos='Defender', axis=1)\n",
    "pan3['mid_points']=pan3.apply(pos_points, df=pan3, pos='Midfielder', axis=1)\n",
    "pan3['for_points']=pan3.apply(pos_points, df=pan3, pos='Forward', axis=1)\n",
    "pan3['gk_points']=pan3.apply(pos_points, df=pan3, pos='Goalkeeper', axis=1)\n",
    "pan3['na_points']=pan3.apply(pos_points, df=pan3, pos='unkown', axis=1)"
   ]
  },
  {
   "cell_type": "code",
   "execution_count": 40,
   "metadata": {},
   "outputs": [],
   "source": [
    "pan1['opp_def_points']=pan1.apply(pos_points, df=pan1, pos='Defender',opp=True, teams=teams1, axis=1)\n",
    "pan1['opp_mid_points']=pan1.apply(pos_points, df=pan1, pos='Midfielder',opp=True, teams=teams1, axis=1)\n",
    "pan1['opp_for_points']=pan1.apply(pos_points, df=pan1, pos='Forward',opp=True, teams=teams1, axis=1)\n",
    "pan1['opp_gk_points']=pan1.apply(pos_points, df=pan1, pos='Goalkeeper',opp=True, teams=teams1, axis=1)\n",
    "pan1['opp_na_points']=pan1.apply(pos_points, df=pan1, pos='unkown',opp=True, teams=teams1, axis=1)\n",
    "\n",
    "pan2['opp_def_points']=pan2.apply(pos_points, df=pan2, pos='Defender',opp=True, teams=teams2, axis=1)\n",
    "pan2['opp_mid_points']=pan2.apply(pos_points, df=pan2, pos='Midfielder',opp=True, teams=teams2, axis=1)\n",
    "pan2['opp_for_points']=pan2.apply(pos_points, df=pan2, pos='Forward',opp=True, teams=teams2, axis=1)\n",
    "pan2['opp_gk_points']=pan2.apply(pos_points, df=pan2, pos='Goalkeeper',opp=True, teams=teams2, axis=1)\n",
    "pan2['opp_na_points']=pan2.apply(pos_points, df=pan2, pos='unkown',opp=True, teams=teams2, axis=1)\n",
    "\n",
    "pan3['opp_def_points']=pan3.apply(pos_points, df=pan3, pos='Defender',opp=True, teams=teams3, axis=1)\n",
    "pan3['opp_mid_points']=pan3.apply(pos_points, df=pan3, pos='Midfielder',opp=True, teams=teams3, axis=1)\n",
    "pan3['opp_for_points']=pan3.apply(pos_points, df=pan3, pos='Forward',opp=True, teams=teams3, axis=1)\n",
    "pan3['opp_gk_points']=pan3.apply(pos_points, df=pan3, pos='Goalkeeper',opp=True, teams=teams3, axis=1)\n",
    "pan3['opp_na_points']=pan3.apply(pos_points, df=pan3, pos='unkown',opp=True, teams=teams3, axis=1)"
   ]
  },
  {
   "cell_type": "code",
   "execution_count": 41,
   "metadata": {},
   "outputs": [],
   "source": [
    "pan1.to_csv('tmp_panal_1.csv')\n",
    "pan2.to_csv('tmp_panal_2.csv')\n",
    "pan3.to_csv('tmp_panal_3.csv')"
   ]
  },
  {
   "cell_type": "code",
   "execution_count": 42,
   "metadata": {},
   "outputs": [],
   "source": [
    "team_key_2016 = {\n",
    "                'ARS':'laurent koscielny',\n",
    "                'BOU':'simon francis',\n",
    "                'BUR':'tom heaton',\n",
    "                'CHE':'john terry',\n",
    "                'CRY':'scott dann',\n",
    "                'EVE':'phil jagielka',\n",
    "                'HUL':'michael dawson',\n",
    "                'LEI':'wes morgan',\n",
    "                'LIV':'jordan henderson',\n",
    "                'MCI':'vincent kompany',\n",
    "                'MUN':'wayne rooney',\n",
    "                'MID':'grant leadbitter',\n",
    "                'SOU':'steven davis',\n",
    "                'STO':'ryan shawcross',\n",
    "                'SUN':\"john o'shea\",\n",
    "                'SWA':'leon britton',\n",
    "                'TOT':'hugo lloris',\n",
    "                'WAT':'troy deeney',\n",
    "                'WBA':'darren fletcher',\n",
    "                'WHU':'mark noble'\n",
    "                }\n",
    "\n",
    "team_key_2017 = {\n",
    "                'ARS':'per mertesacker',\n",
    "                'BOU':'simon francis',\n",
    "                'BHA':'bruno saltor grau',\n",
    "                'BUR':'tom heaton',\n",
    "                'CHE':'gary cahill',\n",
    "                'CRY': 'jason puncheon',\n",
    "                'EVE':'phil jagielka',\n",
    "                'HUD':'tommy smith',\n",
    "                'LEI':'wes morgan',\n",
    "                'LIV':'jordan henderson',\n",
    "                'MCI':'vincent kompany',\n",
    "                'MUN':'michael carrick',\n",
    "                'NEW':'jamaal lascelles',\n",
    "                'SOU':'steven davis',\n",
    "                'STO':'ryan shawcross',\n",
    "                'SWA':'angel rangel',\n",
    "                'TOT':'hugo lloris',\n",
    "                'WAT':'troy deeney',\n",
    "                'WBA':'jonny evans',\n",
    "                'WHU':'mark noble'\n",
    "                }\n",
    "\n",
    "team_key_2018 = {\n",
    "                'ARS':'laurent koscielny',\n",
    "                'BOU':'simon francis',\n",
    "                'BHA':'bruno saltor grau',\n",
    "                'BUR':'tom heaton',\n",
    "                'CAR':'sean morrison',\n",
    "                'CHE':'gary cahill',\n",
    "                'CRY':'luka milivojevic',\n",
    "                'EVE':'phil jagielka',\n",
    "                'FUL':'tom cairney',\n",
    "                'HUD':'tommy smith',\n",
    "                'LEI':'wes morgan',\n",
    "                'LIV':'jordan henderson',\n",
    "                'MCI':'vincent kompany',\n",
    "                'MUN':'antonio valencia',\n",
    "                'NEW':'jamaal lascelles',\n",
    "                'SOU':'pierre-emile højbjerg',\n",
    "                'TOT':'hugo lloris',\n",
    "                'WAT':'troy deeney',\n",
    "                'WHU':'mark noble',\n",
    "                'WOL':'conor coady'\n",
    "                }"
   ]
  },
  {
   "cell_type": "markdown",
   "metadata": {},
   "source": [
    "I now construct the rankings of teams within the league, as points of a team is not particlarly informative while rank is relative to its standing in the league. \n",
    "\n",
    "In this section I also create lags for all player performance features. While this may be overkill I can feature select later."
   ]
  },
  {
   "cell_type": "code",
   "execution_count": 43,
   "metadata": {},
   "outputs": [],
   "source": [
    "def create_league_table(df, team_key, loc): #48 for pan1&2, 69 for pan3\n",
    "    table={}\n",
    "    for team in df['team'].unique():\n",
    "        team_season=[]\n",
    "        cap = team_key[team]\n",
    "        for gw in sorted(df[df['team']==team]['round'].unique()):\n",
    "            points=df[(df['team']==team)&(df['round']==gw)&\n",
    "                     (df['player']==cap)].iloc[0,loc]\n",
    "            team_season.append((gw,points))\n",
    "        table[team]=team_season\n",
    "    return table"
   ]
  },
  {
   "cell_type": "code",
   "execution_count": 44,
   "metadata": {},
   "outputs": [],
   "source": [
    "def rank_dict(league_table, seas_len):\n",
    "    '''\n",
    "    rank teams by week so each team has a (gw,rank) list\n",
    "    '''\n",
    "    rank_table={}\n",
    "    #keyed by gw\n",
    "    for gw in range(1, seas_len+1):\n",
    "        gw_ranking=[]\n",
    "        for team in league_table.keys():\n",
    "            teams_gws = [r for r,p in league_table[team]]\n",
    "            found=False\n",
    "            tmp = copy.deepcopy(gw)\n",
    "            while not found:\n",
    "                #keep looking further back untill gameweek\n",
    "                #team played in is found\n",
    "                try:\n",
    "                    gw_index = teams_gws.index(tmp)\n",
    "                    found=True\n",
    "                except:\n",
    "                    tmp -= 1\n",
    "            teams_points = league_table[team][gw_index]#indexing!!\n",
    "            gw_ranking.append((team, teams_points[1]))\n",
    "        \n",
    "        gw_ranking.sort(key=lambda x: x[1], reverse=True) #from lowest to highets\n",
    "        gw_ranking = [(tup[0], i+1) for i,tup in enumerate(gw_ranking)]\n",
    "        #get index+1 for team in gw_ranking creating a list of\n",
    "        #(team, rank) value with gw key\n",
    "        rank_table[gw]=gw_ranking\n",
    "    return rank_table\n",
    "        \n",
    "def assign_rank(row, rank_table):\n",
    "    team=row['team']\n",
    "    gw=row['round']\n",
    "    for t in rank_table[gw]:\n",
    "        if t[0]==team:\n",
    "            return t[1]\n",
    "    print('error')"
   ]
  },
  {
   "cell_type": "code",
   "execution_count": 45,
   "metadata": {},
   "outputs": [],
   "source": [
    "table1=create_league_table(pan1, team_key_2016, loc=48)\n",
    "table2=create_league_table(pan2, team_key_2017, loc=48)\n",
    "table3=create_league_table(pan3, team_key_2018, loc=69)"
   ]
  },
  {
   "cell_type": "code",
   "execution_count": 46,
   "metadata": {},
   "outputs": [],
   "source": [
    "rank1=rank_dict(table1, seas_len=38)\n",
    "rank2=rank_dict(table2, seas_len=38)\n",
    "rank3=rank_dict(table3, seas_len=34)"
   ]
  },
  {
   "cell_type": "code",
   "execution_count": 47,
   "metadata": {},
   "outputs": [],
   "source": [
    "pan1['team_rank']=pan1.apply(assign_rank, rank_table=rank1, axis=1)"
   ]
  },
  {
   "cell_type": "code",
   "execution_count": 48,
   "metadata": {},
   "outputs": [],
   "source": [
    "pan2['team_rank']=pan2.apply(assign_rank, rank_table=rank2, axis=1)"
   ]
  },
  {
   "cell_type": "code",
   "execution_count": 49,
   "metadata": {},
   "outputs": [],
   "source": [
    "pan3['team_rank']=pan3.apply(assign_rank, rank_table=rank3, axis=1)"
   ]
  },
  {
   "cell_type": "code",
   "execution_count": 50,
   "metadata": {},
   "outputs": [],
   "source": [
    "pan1.to_csv('tmp_panal_1.csv')\n",
    "pan2.to_csv('tmp_panal_2.csv')\n",
    "pan3.to_csv('tmp_panal_3.csv')"
   ]
  },
  {
   "cell_type": "code",
   "execution_count": 76,
   "metadata": {},
   "outputs": [],
   "source": [
    "pan1 = pd.read_csv('tmp_panal_1.csv')\n",
    "pan2 = pd.read_csv('tmp_panal_2.csv')\n",
    "pan3 = pd.read_csv('tmp_panal_3.csv')"
   ]
  },
  {
   "cell_type": "code",
   "execution_count": 77,
   "metadata": {},
   "outputs": [],
   "source": [
    "last_weeks1={}\n",
    "for player in pan1.player.unique():\n",
    "    last_week=pan1[pan1['player']==player]['round'].max()\n",
    "    last_weeks1[player]=last_week\n",
    "first_weeks1={}\n",
    "for player in pan1.player.unique():\n",
    "    first_week=pan1[pan1['player']==player]['round'].min()\n",
    "    first_weeks1[player]=first_week\n",
    "last_weeks2={}\n",
    "for player in pan2.player.unique():\n",
    "    last_week=pan2[pan2['player']==player]['round'].max()\n",
    "    last_weeks2[player]=last_week\n",
    "first_weeks2={}\n",
    "for player in pan2.player.unique():\n",
    "    first_week=pan2[pan2['player']==player]['round'].min()\n",
    "    first_weeks2[player]=first_week\n",
    "last_weeks3={}\n",
    "for player in pan3.player.unique():\n",
    "    last_week=pan3[pan3['player']==player]['round'].max()\n",
    "    last_weeks3[player]=last_week\n",
    "first_weeks3={}\n",
    "for player in pan3.player.unique():\n",
    "    first_week=pan3[pan3['player']==player]['round'].min()\n",
    "    first_weeks3[player]=first_week"
   ]
  },
  {
   "cell_type": "code",
   "execution_count": 78,
   "metadata": {},
   "outputs": [],
   "source": [
    "def get_rank_diff(row, df, team_key):\n",
    "    team=row['team']\n",
    "    gw=row['round']\n",
    "    opps=[]\n",
    "    for opp in df.team.unique():\n",
    "        if row[opp]==1:\n",
    "            opps.append(opp)\n",
    "    if len(opps)==1:\n",
    "        opp = opps[0]\n",
    "        cap = team_key[opp]\n",
    "        opp_rank = df[(df['team']==opp)&(df['round']==gw)&(df['player']==cap)]['team_rank'].values[0]\n",
    "        return row['team_rank']-opp_rank\n",
    "    else:\n",
    "        opp_ranks=[]\n",
    "        for opp in opps:\n",
    "            cap = team_key[opp]\n",
    "            opp_rank=opp_rank = df[(df['team']==opp)&(df['round']==gw)&(df['player']==cap)]['team_rank'].values[0]\n",
    "            opp_ranks.append(opp_rank)\n",
    "        mean_rank = np.mean(opp_ranks)\n",
    "        return row['team_rank']-mean_rank\n",
    "    \n",
    "def get_lags(df, to_lag, deg=1):\n",
    "    '''\n",
    "    shifts down by n degrees and makes\n",
    "    a new column returning the new df\n",
    "    '''\n",
    "    for col in lag_me:\n",
    "        new_name = col+'_lag_'+str(deg)\n",
    "        df[new_name]=df[col].shift(deg)\n",
    "    return df\n",
    "\n",
    "def drop_last(row, last_weeks):\n",
    "    '''\n",
    "    to stop other players next game entering\n",
    "    the last observation of a new player I \n",
    "    need to nullify the last entry of every \n",
    "    player, can then later drop this row.\n",
    "    '''\n",
    "    player = row['player']\n",
    "    gw = row['round']\n",
    "    if gw == last_weeks[player]:\n",
    "        return np.nan\n",
    "    else:\n",
    "        return row['next_week_points']\n",
    "\n",
    "def drop_first(row, col, ext, first_weeks, how_many=1):\n",
    "    '''\n",
    "    to stop other players lag entering\n",
    "    the first observation of a new player I \n",
    "    need to nullify the first entry of every \n",
    "    player, can then later drop this row. This\n",
    "    needs to also drop the second row of every\n",
    "    player. Which row to drop can be controlled by\n",
    "    the how_many arg, dropping all rows up to the \n",
    "    entered int. \n",
    "    '''\n",
    "    player = row['player']\n",
    "    gw = row['round']\n",
    "    for drops in range(how_many):\n",
    "        if gw == first_weeks[player]+drops:\n",
    "            return np.nan\n",
    "        else:\n",
    "            continue\n",
    "    return row[col+ext]"
   ]
  },
  {
   "cell_type": "code",
   "execution_count": 83,
   "metadata": {},
   "outputs": [],
   "source": [
    "pan1['rank_diff']=pan1.apply(get_rank_diff, df=pan1, team_key=team_key_2016, axis=1)\n",
    "pan2['rank_diff']=pan2.apply(get_rank_diff, df=pan2, team_key=team_key_2017, axis=1)\n",
    "pan3['rank_diff']=pan3.apply(get_rank_diff, df=pan3, team_key=team_key_2018, axis=1)"
   ]
  },
  {
   "cell_type": "code",
   "execution_count": 84,
   "metadata": {},
   "outputs": [],
   "source": [
    "lag_me=['selected', 'transfers_balance',\n",
    "       'transfers_in', 'transfers_out', 'value', 'is_double', 'bps', 'minutes', 'saves', 'assists', 'attempted_passes',\n",
    "       'big_chances_created', 'big_chances_missed', 'bonus', 'clean_sheets',\n",
    "       'clearances_blocks_interceptions', 'completed_passes', 'creativity',\n",
    "       'dribbles', 'errors_leading_to_goal', 'errors_leading_to_goal_attempt',\n",
    "       'fouls', 'goals_conceded', 'goals_scored', 'ict_index', 'influence',\n",
    "       'key_passes', 'offside', 'open_play_crosses', 'own_goals',\n",
    "       'penalties_conceded', 'penalties_missed', 'penalties_saved',\n",
    "       'recoveries', 'red_cards', 'tackled', 'tackles', 'target_missed',\n",
    "       'threat', 'total_points', 'winning_goals', 'yellow_cards', 'team_score',\n",
    "       'opp_score', 'league_points_cum', 'was_home', 'win', 'draw',\n",
    "       'team_points', 'opp_points', 'def_points', 'mid_points', 'for_points',\n",
    "       'gk_points', 'na_points', 'opp_def_points', 'opp_mid_points', 'team_rank', 'rank_diff',\n",
    "       'perc_of_all_points', 'perc_of_team_points', 'perc_of_opp_points']"
   ]
  },
  {
   "cell_type": "code",
   "execution_count": 85,
   "metadata": {},
   "outputs": [],
   "source": [
    "lag_pan1=get_lags(pan1, lag_me, deg=1)\n",
    "lag_pan1=get_lags(lag_pan1, lag_me, deg=2)\n",
    "\n",
    "lag_pan2=get_lags(pan2, lag_me, deg=1)\n",
    "lag_pan2=get_lags(lag_pan2, lag_me, deg=2)\n",
    "\n",
    "lag_pan3=get_lags(pan3, lag_me, deg=1)\n",
    "lag_pan3=get_lags(lag_pan3, lag_me, deg=2)"
   ]
  },
  {
   "cell_type": "code",
   "execution_count": 86,
   "metadata": {},
   "outputs": [],
   "source": [
    "lag_pan1['next_week_points']=lag_pan1['total_points'].shift(-1)\n",
    "lag_pan2['next_week_points']=lag_pan2['total_points'].shift(-1)\n",
    "lag_pan3['next_week_points']=lag_pan3['total_points'].shift(-1)"
   ]
  },
  {
   "cell_type": "code",
   "execution_count": 87,
   "metadata": {},
   "outputs": [],
   "source": [
    "lag_pan1['next_week_points']=lag_pan1.apply(drop_last, last_weeks=last_weeks1, axis=1)\n",
    "lag_pan2['next_week_points']=lag_pan2.apply(drop_last, last_weeks=last_weeks2, axis=1)\n",
    "lag_pan3['next_week_points']=lag_pan3.apply(drop_last, last_weeks=last_weeks3, axis=1)"
   ]
  },
  {
   "cell_type": "code",
   "execution_count": 88,
   "metadata": {},
   "outputs": [],
   "source": [
    "for col in lag_me:\n",
    "    ext1='_lag_1'\n",
    "    ext2='_lag_2'\n",
    "    lag_pan1[col+ext1]=lag_pan1.apply(drop_first,first_weeks=first_weeks1,col=col,ext=ext1,how_many=1,axis=1)\n",
    "    lag_pan1[col+ext2]=lag_pan1.apply(drop_first,first_weeks=first_weeks1,col=col,ext=ext2,how_many=2,axis=1)\n",
    "    \n",
    "    lag_pan2[col+ext1]=lag_pan2.apply(drop_first,first_weeks=first_weeks2,col=col,ext=ext1,how_many=1,axis=1)\n",
    "    lag_pan2[col+ext2]=lag_pan2.apply(drop_first,first_weeks=first_weeks2,col=col,ext=ext2,how_many=2,axis=1)\n",
    "    \n",
    "    lag_pan3[col+ext1]=lag_pan3.apply(drop_first,first_weeks=first_weeks3,col=col,ext=ext1,how_many=1,axis=1)\n",
    "    lag_pan3[col+ext2]=lag_pan3.apply(drop_first,first_weeks=first_weeks3,col=col,ext=ext2,how_many=2,axis=1)"
   ]
  },
  {
   "cell_type": "code",
   "execution_count": 89,
   "metadata": {},
   "outputs": [],
   "source": [
    "lag_pan1['adj_round']=lag_pan1['round']\n",
    "lag_pan2['adj_round']=lag_pan2['round'].apply(lambda x: x+38)\n",
    "lag_pan3['adj_round']=lag_pan3['round'].apply(lambda x: x+76)"
   ]
  },
  {
   "cell_type": "code",
   "execution_count": 90,
   "metadata": {},
   "outputs": [
    {
     "name": "stderr",
     "output_type": "stream",
     "text": [
      "/anaconda3/lib/python3.7/site-packages/ipykernel_launcher.py:1: FutureWarning: Sorting because non-concatenation axis is not aligned. A future version\n",
      "of pandas will change to not sort by default.\n",
      "\n",
      "To accept the future behavior, pass 'sort=False'.\n",
      "\n",
      "To retain the current behavior and silence the warning, pass 'sort=True'.\n",
      "\n",
      "  \"\"\"Entry point for launching an IPython kernel.\n"
     ]
    }
   ],
   "source": [
    "lag_pan=pd.concat([lag_pan1, lag_pan2, lag_pan3])"
   ]
  },
  {
   "cell_type": "code",
   "execution_count": 91,
   "metadata": {},
   "outputs": [],
   "source": [
    "lag_pan.reset_index(drop=True,inplace=True)"
   ]
  },
  {
   "cell_type": "markdown",
   "metadata": {},
   "source": [
    "Lastly I create features that describe the game next week. These are structually the same as the previous engineered features but they are for the team that the player plays next week rather than last week or the current week. The data used to construct these metrics uses only data from the current week or earlier."
   ]
  },
  {
   "cell_type": "code",
   "execution_count": 92,
   "metadata": {},
   "outputs": [],
   "source": [
    "def get_forward_team(row, df=lag_pan):\n",
    "    i = row.name\n",
    "    try:\n",
    "        f_row = df.loc[i+1]\n",
    "    except:\n",
    "        return 'last_row'\n",
    "    pot_opp=['EVE','TOT','BUR','NEW','HUL','ARS','CHE','SUN',\n",
    "            'MUN','WOL','CRY','MCI','FUL','WHU','HUD','STO',\n",
    "            'WBA','SOU','MID','WAT','LEI','LIV','BOU','BHA',\n",
    "            'SWA','CAR']\n",
    "    for team in pot_opp:\n",
    "        if f_row[team]==1:\n",
    "            opp=team\n",
    "            break\n",
    "    return opp"
   ]
  },
  {
   "cell_type": "code",
   "execution_count": 93,
   "metadata": {},
   "outputs": [],
   "source": [
    "lag_pan['next_team']=lag_pan.apply(get_forward_team, axis=1)"
   ]
  },
  {
   "cell_type": "code",
   "execution_count": 94,
   "metadata": {},
   "outputs": [],
   "source": [
    "def link_to_next_team(row, df):\n",
    "    '''\n",
    "    returns a sub-df of the players team that week\n",
    "    '''\n",
    "    n_team = row['next_team']\n",
    "    gw = row['adj_round']\n",
    "    return df[(df['team']==n_team)&(df['round']<=gw)]\n",
    "\n",
    "def next_team_points(row, df):\n",
    "    '''\n",
    "    from sub-df cumalative sum of total_points\n",
    "    '''\n",
    "    n_team = link_to_next_team(row, df)\n",
    "    team_points = n_team['total_points'].sum()\n",
    "    return team_points\n",
    "\n",
    "def pos_points(row, df, pos):\n",
    "    '''\n",
    "    from sub-df cumalative sum of total_points\n",
    "    by position\n",
    "    '''\n",
    "    n_team = link_to_next_team(row, df)\n",
    "    pos_points = n_team[n_team['position']==pos]['total_points'].sum()\n",
    "    return pos_points"
   ]
  },
  {
   "cell_type": "code",
   "execution_count": 95,
   "metadata": {},
   "outputs": [],
   "source": [
    "lag_pan['next_team_points']=lag_pan.apply(team_points, df=lag_pan, axis=1)"
   ]
  },
  {
   "cell_type": "code",
   "execution_count": 96,
   "metadata": {},
   "outputs": [],
   "source": [
    "lag_pan['next_def_points']=lag_pan.apply(pos_points, df=lag_pan, pos='Defender', axis=1)\n",
    "lag_pan['next_mid_points']=lag_pan.apply(pos_points, df=lag_pan, pos='Midfielder', axis=1)\n",
    "lag_pan['next_for_points']=lag_pan.apply(pos_points, df=lag_pan, pos='Forward', axis=1)\n",
    "lag_pan['next_gk_points']=lag_pan.apply(pos_points, df=lag_pan, pos='Goalkeeper', axis=1)\n",
    "lag_pan['next_na_points']=lag_pan.apply(pos_points, df=lag_pan, pos='unkown', axis=1)"
   ]
  },
  {
   "cell_type": "code",
   "execution_count": 97,
   "metadata": {},
   "outputs": [],
   "source": [
    "def get_top_(num, team_dict):\n",
    "    '''\n",
    "    returns the top # keys in \n",
    "    the dict team_dict from best\n",
    "    to worst.\n",
    "    '''\n",
    "    count=0\n",
    "    top=[]\n",
    "    while count<num:\n",
    "        largest=max(team_dict, key=team_dict.get)\n",
    "        top.append(team_dict[largest])\n",
    "        var_bin = team_dict.pop(largest)\n",
    "        count+=1\n",
    "    return top\n",
    "        \n",
    "\n",
    "def mean_before_round(player, adj_round, df=lag_pan):\n",
    "    '''\n",
    "    gets the mean points per game from games before this\n",
    "    game for the player input.\n",
    "    '''\n",
    "    tmp = df[(df['adj_round']<=adj_round)&(df['player']==player)]\n",
    "    player_mean=tmp['total_points'].mean()\n",
    "    return player_mean\n",
    "\n",
    "def team_mean_before_round(team, adj_round, df=lag_pan):\n",
    "    '''\n",
    "    gest the team of players to find means for returns\n",
    "    dictionary of player and their mean.\n",
    "    '''\n",
    "    tmp = df[(df['team']==team)&(df['adj_round']==adj_round)]\n",
    "    if tmp.shape[0]==0: #team dont play this week\n",
    "        tmp = df[(df['team']==team)&(df['adj_round']==adj_round-1)]\n",
    "    #to get players currently in the team this round\n",
    "    adict={}\n",
    "    for player in tmp['player'].unique():\n",
    "        player_mean = mean_before_round(player, adj_round, df=df)\n",
    "        adict[player]=player_mean\n",
    "\n",
    "    return adict\n",
    "\n",
    "def get_player_rows(row,opps=False, df=lag_pan):\n",
    "    '''\n",
    "    finds the top 10 of a team from their cummalitive\n",
    "    mean and returns a df with 10 columns and a row for \n",
    "    every row in the original dataset that this one is \n",
    "    built off. The dfs can then be concatinated to add\n",
    "    top 10 features. If opps==True then the top11 of the \n",
    "    opponent team is returned.\n",
    "    '''\n",
    "    pot_opp=['EVE','TOT','BUR','NEW','HUL','ARS','CHE','SUN',\n",
    "            'MUN','WOL','CRY','MCI','FUL','WHU','HUD','STO',\n",
    "            'WBA','SOU','MID','WAT','LEI','LIV','BOU','BHA',\n",
    "            'SWA','CAR']\n",
    "    team = row['team']\n",
    "    adj_r = row['adj_round']\n",
    "    player1 = row['player']\n",
    "    if opps==True:\n",
    "        opps=[]\n",
    "        for po in pot_opp:\n",
    "            if row['next_team']==po:\n",
    "                opps.append(po)\n",
    "            elif row['next_team']=='last_row':\n",
    "                return [np.nan]*11\n",
    "        if len(opps)==1:\n",
    "            opps=opps[0]\n",
    "            team_dict=team_mean_before_round(opps, adj_r, df=df)\n",
    "            top11=get_top_(11, team_dict)\n",
    "            return top11\n",
    "        else:\n",
    "            team_dict={}\n",
    "            for opp in opps:\n",
    "                team_dict.update(team_mean_before_round(opp, adj_r, df=df))\n",
    "            top11=get_top_(11, team_dict)\n",
    "            return top11\n",
    "    else:\n",
    "        team_dict=team_mean_before_round(team, adj_r, df=df)\n",
    "        top10=get_top_(10, team_dict)\n",
    "        return top10"
   ]
  },
  {
   "cell_type": "code",
   "execution_count": 98,
   "metadata": {},
   "outputs": [],
   "source": [
    "opp_playerframe = lag_pan.apply(get_player_rows, opps=True, df=lag_pan,axis=1)\n",
    "team_playerframe = lag_pan.apply(get_player_rows, opps=False, df=lag_pan,axis=1)\n",
    "\n",
    "opp_playerframe_df=opp_playerframe.apply(pd.Series)\n",
    "team_playerframe_df=team_playerframe.apply(pd.Series)"
   ]
  },
  {
   "cell_type": "code",
   "execution_count": 99,
   "metadata": {},
   "outputs": [],
   "source": [
    "opp_playerframe_df.columns=['opp_1','opp_2','opp_3','opp_4','opp_5',\n",
    "                           'opp_6','opp_7','opp_8','opp_9','opp_10',\n",
    "                           'opp_11']"
   ]
  },
  {
   "cell_type": "code",
   "execution_count": 100,
   "metadata": {},
   "outputs": [],
   "source": [
    "team_playerframe_df.columns=['mate_1','mate_2','mate_3','mate_4','mate_5',\n",
    "                    'mate_6','mate_7','mate_8','mate_9','mate_10']"
   ]
  },
  {
   "cell_type": "code",
   "execution_count": 101,
   "metadata": {},
   "outputs": [],
   "source": [
    "full_data=pd.concat([lag_pan,opp_playerframe_df,team_playerframe_df],axis=1)"
   ]
  },
  {
   "cell_type": "code",
   "execution_count": 102,
   "metadata": {},
   "outputs": [],
   "source": [
    "full_data.to_csv('final_dataset.csv')"
   ]
  },
  {
   "cell_type": "code",
   "execution_count": 103,
   "metadata": {},
   "outputs": [
    {
     "name": "stdout",
     "output_type": "stream",
     "text": [
      "finished\n"
     ]
    }
   ],
   "source": [
    "print('finished')"
   ]
  }
 ],
 "metadata": {
  "kernelspec": {
   "display_name": "Python 3",
   "language": "python",
   "name": "python3"
  },
  "language_info": {
   "codemirror_mode": {
    "name": "ipython",
    "version": 3
   },
   "file_extension": ".py",
   "mimetype": "text/x-python",
   "name": "python",
   "nbconvert_exporter": "python",
   "pygments_lexer": "ipython3",
   "version": "3.7.1"
  }
 },
 "nbformat": 4,
 "nbformat_minor": 2
}
